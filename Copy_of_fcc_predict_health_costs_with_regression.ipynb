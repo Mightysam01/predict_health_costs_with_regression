{
  "cells": [
    {
      "cell_type": "markdown",
      "metadata": {
        "id": "view-in-github",
        "colab_type": "text"
      },
      "source": [
        "<a href=\"https://colab.research.google.com/github/Mightysam01/predict_health_costs_with_regression/blob/main/Copy_of_fcc_predict_health_costs_with_regression.ipynb\" target=\"_parent\"><img src=\"https://colab.research.google.com/assets/colab-badge.svg\" alt=\"Open In Colab\"/></a>"
      ]
    },
    {
      "cell_type": "code",
      "execution_count": null,
      "metadata": {
        "id": "1rRo8oNqZ-Rj"
      },
      "outputs": [],
      "source": [
        "# Import libraries. You may or may not use all of these.\n",
        "!pip install -q git+https://github.com/tensorflow/docs\n",
        "import matplotlib.pyplot as plt\n",
        "import numpy as np\n",
        "import pandas as pd\n",
        "\n",
        "try:\n",
        "  # %tensorflow_version only exists in Colab.\n",
        "  %tensorflow_version 2.x\n",
        "except Exception:\n",
        "  pass\n",
        "import tensorflow as tf\n",
        "\n",
        "from tensorflow import keras\n",
        "from tensorflow.keras import layers\n",
        "\n",
        "import tensorflow_docs as tfdocs\n",
        "import tensorflow_docs.plots\n",
        "import tensorflow_docs.modeling"
      ]
    },
    {
      "cell_type": "code",
      "source": [
        "import os\n",
        "\n",
        "from urllib.request import Request, urlopen, urlretrieve\n",
        "from sklearn.utils import shuffle"
      ],
      "metadata": {
        "id": "jV33oRH5J683"
      },
      "execution_count": null,
      "outputs": []
    },
    {
      "cell_type": "code",
      "execution_count": null,
      "metadata": {
        "id": "CiX2FI4gZtTt"
      },
      "outputs": [],
      "source": [
        "# Import data\n",
        "!wget https://cdn.freecodecamp.org/project-data/health-costs/insurance.csv\n",
        "dataset = pd.read_csv('insurance.csv')\n",
        "dataset.tail()"
      ]
    },
    {
      "cell_type": "code",
      "source": [
        "dataset.head()"
      ],
      "metadata": {
        "id": "MfIGvd_Bjy2q"
      },
      "execution_count": null,
      "outputs": []
    },
    {
      "cell_type": "code",
      "execution_count": null,
      "metadata": {
        "id": "LcopvQh3X-kX"
      },
      "outputs": [],
      "source": [
        "dataset.isna().sum()"
      ]
    },
    {
      "cell_type": "markdown",
      "source": [
        "this shows we don't have NaN values in the dataset"
      ],
      "metadata": {
        "id": "OXopY8h_qnhM"
      }
    },
    {
      "cell_type": "code",
      "source": [
        "dataset.describe().transpose()"
      ],
      "metadata": {
        "id": "Hm-28alrlo9k"
      },
      "execution_count": null,
      "outputs": []
    },
    {
      "cell_type": "markdown",
      "source": [
        "Classifying the unique values in each column if greater or less than 10"
      ],
      "metadata": {
        "id": "UwBqJVvOp9hU"
      }
    },
    {
      "cell_type": "code",
      "source": [
        "for column in dataset:\n",
        "  if dataset[column].nunique() < 10:\n",
        "    print(column, '=', pd.unique(dataset[column]))\n",
        "\n",
        "  else:\n",
        "    print(column, 'have', dataset[column].nunique(), 'different values.')"
      ],
      "metadata": {
        "id": "uUAFHoTkmg5h"
      },
      "execution_count": null,
      "outputs": []
    },
    {
      "cell_type": "markdown",
      "source": [
        "checking each column datatype so we can differentiate between the categorical and numerical data"
      ],
      "metadata": {
        "id": "xL4qKGK5qJGx"
      }
    },
    {
      "cell_type": "code",
      "source": [
        "dataset.dtypes"
      ],
      "metadata": {
        "id": "xq_hLnMZqWbe"
      },
      "execution_count": null,
      "outputs": []
    },
    {
      "cell_type": "markdown",
      "source": [
        "- four numerical columns (age, bmi, children and expenses)\n",
        "- three categorical columns (sex, smoker and region)\n",
        "- the categorical data needs to be converted to numerical data so they can fit into the model"
      ],
      "metadata": {
        "id": "8LdM5dssq6Ci"
      }
    },
    {
      "cell_type": "code",
      "source": [
        "dataset['sex'].replace(\n",
        "    ['female', 'male'],\n",
        "    [0, 1],\n",
        "    inplace=True\n",
        ")\n",
        "dataset['smoker'].replace(\n",
        "    ['yes', 'no'],\n",
        "    [0, 1],\n",
        "    inplace=True\n",
        ")\n",
        "dataset['region'].replace(\n",
        "    ['southwest', 'southeast', 'northwest', 'northeast'],\n",
        "    [0, 1, 2, 3],\n",
        "    inplace=True\n",
        ")"
      ],
      "metadata": {
        "id": "_2xai-pStVpO"
      },
      "execution_count": null,
      "outputs": []
    },
    {
      "cell_type": "markdown",
      "source": [
        "shuffle the dataset"
      ],
      "metadata": {
        "id": "EcznW9tKKpqR"
      }
    },
    {
      "cell_type": "code",
      "source": [
        "dataset = shuffle(dataset).reset_index(drop=True)"
      ],
      "metadata": {
        "id": "_gCa3I_CJhkf"
      },
      "execution_count": null,
      "outputs": []
    },
    {
      "cell_type": "code",
      "source": [
        "dataset.tail()"
      ],
      "metadata": {
        "id": "zYBMjxntuud_"
      },
      "execution_count": null,
      "outputs": []
    },
    {
      "cell_type": "markdown",
      "source": [
        "Now that the categorical data has been converted to numerical data;\n",
        "- 80% of the dataset will be used as the train_dataset\n",
        "- 20% of the dataset will be used as the test_dataset"
      ],
      "metadata": {
        "id": "Wy9RJ_vsIU3G"
      }
    },
    {
      "cell_type": "code",
      "source": [
        "dataset.shape[0]"
      ],
      "metadata": {
        "id": "7BwU1VWYLE46"
      },
      "execution_count": null,
      "outputs": []
    },
    {
      "cell_type": "code",
      "source": [
        "train_dataset = dataset[0:int(0.8*dataset.shape[0])]\n",
        "train_dataset.shape"
      ],
      "metadata": {
        "id": "u_jeBSx1IT8E"
      },
      "execution_count": null,
      "outputs": []
    },
    {
      "cell_type": "code",
      "source": [
        "train_dataset.tail()"
      ],
      "metadata": {
        "id": "RKmOR8swLuG0"
      },
      "execution_count": null,
      "outputs": []
    },
    {
      "cell_type": "code",
      "source": [
        "test_dataset = dataset[int(0.8*dataset.shape[0]):int(dataset.shape[0])]\n",
        "test_dataset.shape"
      ],
      "metadata": {
        "id": "B5vO1WjpLPPz"
      },
      "execution_count": null,
      "outputs": []
    },
    {
      "cell_type": "code",
      "source": [
        "test_dataset.head()"
      ],
      "metadata": {
        "id": "O3gbYkaFLxGQ"
      },
      "execution_count": null,
      "outputs": []
    },
    {
      "cell_type": "markdown",
      "source": [
        "Defining the train and test labels by 'pop' the 'expenses'"
      ],
      "metadata": {
        "id": "Sb1u4JhMMBWv"
      }
    },
    {
      "cell_type": "code",
      "source": [
        "train_labels = train_dataset.pop('expenses')"
      ],
      "metadata": {
        "id": "vhgD0spPMsv_"
      },
      "execution_count": null,
      "outputs": []
    },
    {
      "cell_type": "code",
      "source": [
        "test_labels = test_dataset.pop('expenses')"
      ],
      "metadata": {
        "id": "xTTFBRAAM18y"
      },
      "execution_count": null,
      "outputs": []
    },
    {
      "cell_type": "markdown",
      "source": [
        "Creating the Model"
      ],
      "metadata": {
        "id": "orC2XGz0NPoP"
      }
    },
    {
      "cell_type": "markdown",
      "source": [
        "Normalizing the training dataset"
      ],
      "metadata": {
        "id": "q4cDc83DOOoK"
      }
    },
    {
      "cell_type": "code",
      "source": [
        "normalizer = layers.experimental.preprocessing.Normalization()"
      ],
      "metadata": {
        "id": "yr9UpvqhNcW3"
      },
      "execution_count": null,
      "outputs": []
    },
    {
      "cell_type": "code",
      "source": [
        "normalizer.adapt(np.array(train_dataset))"
      ],
      "metadata": {
        "id": "Pz05tQ9RNp6a"
      },
      "execution_count": null,
      "outputs": []
    },
    {
      "cell_type": "markdown",
      "source": [
        "Building the model"
      ],
      "metadata": {
        "id": "81qFgex4OT2S"
      }
    },
    {
      "cell_type": "code",
      "source": [
        "model = keras.Sequential([\n",
        "    normalizer,\n",
        "    layers.Dense(32, activation='relu'),\n",
        "    layers.Dense(16, activation='relu'),\n",
        "    layers.Dense(1)\n",
        "])"
      ],
      "metadata": {
        "id": "GKcm9a_NNN3N"
      },
      "execution_count": null,
      "outputs": []
    },
    {
      "cell_type": "markdown",
      "source": [
        "Compiling the Model"
      ],
      "metadata": {
        "id": "S4RZQSIQOWND"
      }
    },
    {
      "cell_type": "code",
      "source": [
        "model.compile(\n",
        "    optimizer = tf.optimizers.Adam(learning_rate=0.1),\n",
        "    loss = 'mae',\n",
        "    metrics = ['mae', 'mse']\n",
        ")"
      ],
      "metadata": {
        "id": "j0kzDd4_OMVa"
      },
      "execution_count": null,
      "outputs": []
    },
    {
      "cell_type": "code",
      "source": [
        "model.build()"
      ],
      "metadata": {
        "id": "7Y4u-OU4O76a"
      },
      "execution_count": null,
      "outputs": []
    },
    {
      "cell_type": "code",
      "source": [
        "model.summary()"
      ],
      "metadata": {
        "id": "HpOOmce3O-VN"
      },
      "execution_count": null,
      "outputs": []
    },
    {
      "cell_type": "code",
      "source": [
        "History = model.fit(\n",
        "    train_dataset,\n",
        "    train_labels,\n",
        "    epochs = 100\n",
        ")"
      ],
      "metadata": {
        "id": "2KVT4YqyPCTo"
      },
      "execution_count": null,
      "outputs": []
    },
    {
      "cell_type": "code",
      "execution_count": null,
      "metadata": {
        "id": "Xe7RXH3N3CWU"
      },
      "outputs": [],
      "source": [
        "# RUN THIS CELL TO TEST YOUR MODEL. DO NOT MODIFY CONTENTS.\n",
        "# Test model by checking how well the model generalizes using the test set.\n",
        "loss, mae, mse = model.evaluate(test_dataset, test_labels, verbose=2)\n",
        "\n",
        "print(\"Testing set Mean Abs Error: {:5.2f} expenses\".format(mae))\n",
        "\n",
        "if mae < 3500:\n",
        "  print(\"You passed the challenge. Great job!\")\n",
        "else:\n",
        "  print(\"The Mean Abs Error must be less than 3500. Keep trying.\")\n",
        "\n",
        "# Plot predictions.\n",
        "test_predictions = model.predict(test_dataset).flatten()\n",
        "\n",
        "a = plt.axes(aspect='equal')\n",
        "plt.scatter(test_labels, test_predictions)\n",
        "plt.xlabel('True values (expenses)')\n",
        "plt.ylabel('Predictions (expenses)')\n",
        "lims = [0, 50000]\n",
        "plt.xlim(lims)\n",
        "plt.ylim(lims)\n",
        "_ = plt.plot(lims,lims)\n"
      ]
    }
  ],
  "metadata": {
    "colab": {
      "private_outputs": true,
      "provenance": [],
      "cell_execution_strategy": "setup",
      "include_colab_link": true
    },
    "kernelspec": {
      "display_name": "Python 3",
      "name": "python3"
    }
  },
  "nbformat": 4,
  "nbformat_minor": 0
}